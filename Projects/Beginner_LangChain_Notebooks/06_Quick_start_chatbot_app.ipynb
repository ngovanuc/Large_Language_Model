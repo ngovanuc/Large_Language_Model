{
 "cells": [
  {
   "cell_type": "markdown",
   "metadata": {},
   "source": [
    "# Quick start:"
   ]
  },
  {
   "cell_type": "code",
   "execution_count": 2,
   "metadata": {},
   "outputs": [],
   "source": [
    "import os\n",
    "from fastapi import FastAPI\n",
    "from pydantic import BaseModel\n",
    "from langchain.chat_models import ChatOpenAI\n",
    "from langchain.chat_models import init_chat_model\n",
    "from langchain.schema import AIMessage\n",
    "from langchain.schema import HumanMessage\n",
    "\n",
    "\n",
    "app = FastAPI()\n",
    "\n",
    "groq_api_key = \"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\"\n",
    "os.environ['GROQ_API_KEY'] = groq_api_key\n",
    "\n",
    "chat_model = init_chat_model('llama3-8b-8192', model_provider='groq')"
   ]
  },
  {
   "cell_type": "code",
   "execution_count": 3,
   "metadata": {},
   "outputs": [],
   "source": [
    "class ChatRequest(BaseModel):\n",
    "    message: str\n",
    "\n",
    "\n",
    "@app.post(\"/chat\")\n",
    "async def chat(request: ChatRequest):\n",
    "    response = chat_model([HumanMessage(content=request.message)])\n",
    "    return {\"response: \", response.content}"
   ]
  }
 ],
 "metadata": {
  "kernelspec": {
   "display_name": "Python 3",
   "language": "python",
   "name": "python3"
  },
  "language_info": {
   "codemirror_mode": {
    "name": "ipython",
    "version": 3
   },
   "file_extension": ".py",
   "mimetype": "text/x-python",
   "name": "python",
   "nbconvert_exporter": "python",
   "pygments_lexer": "ipython3",
   "version": "3.12.9"
  }
 },
 "nbformat": 4,
 "nbformat_minor": 2
}
