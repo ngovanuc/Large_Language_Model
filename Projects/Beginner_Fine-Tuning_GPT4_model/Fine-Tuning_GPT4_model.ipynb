{
 "cells": [
  {
   "cell_type": "markdown",
   "metadata": {},
   "source": [
    "# Fine-Tuning OpenAI's GPT-4 model: Step-by-step\n",
    "## Content\n",
    "1. What is Fine-Tuning\n",
    "2. When to use Fine-Tuning\n",
    "3. Common use-cases for fine-tuning\n",
    "4. Fine-tuning GPT 4 model\n",
    "    4.1. Prepare data\n",
    "    4.2. Setup API key and libraries\n",
    "    4.3. Upload the training file\n",
    "    4.4. Create a fine-tuned model\n",
    "    4.5. Analyze the fine-tuned model\n",
    "    4.6. Using the fine-tuned model\n",
    "5. Conclusion"
   ]
  },
  {
   "cell_type": "markdown",
   "metadata": {},
   "source": [
    "# 1. What is fine-tuning?"
   ]
  },
  {
   "cell_type": "markdown",
   "metadata": {},
   "source": [
    "- là quá trình tinh chỉnh mô hình đã được huấn luyện trước\n",
    "- nó giúp tối ưu hóa một nhiệm vụ hoặc lĩnh vực cụ thể\n",
    "\n",
    "Các phương pháp fine-tuning:\n",
    "- Parameter-Efficient Fine-Tuning: câp nhật một phần tham số nhằm tiết kiệm tài nguyên và tránh mất đi kiến thức trước đó\n",
    "- Instruction fine-tuning: huấn luyện mô hình với những mẫu cụ thể để điều chỉnh từng nhiệm vụ thích hợp\n",
    "\n",
    "So sánh với Retrieval Augmented Generation (RAG):\n",
    "- Fine-tuning: Tối ưu hóa mô hình sẵn có để thực hiện tốt một nhiệm vụ cụ thể.\n",
    "- RAG: Kết hợp truy xuất thông tin từ nguồn bên ngoài trong quá trình tạo nội dung, giúp đảm bảo tính cập nhật và chính xác của thông tin.\n",
    "\n",
    "Việc chọn fine-tuning hay RAG phụ thuộc vào yêu cầu cụ thể của ứng dụng, như mức độ chuyên môn hóa, tài nguyên tính toán, và nhu cầu cập nhật thông tin."
   ]
  },
  {
   "cell_type": "markdown",
   "metadata": {},
   "source": [
    "# 2. When to use Fine-Tuning"
   ]
  },
  {
   "cell_type": "markdown",
   "metadata": {},
   "source": [
    "Fine-tuning giúp tùy chỉnh mô hình của OpenAI nhưng tốn nhiều thời gian và tài nguyên. Trước khi fine-tuning, nên tối ưu hóa bằng prompt engineering, prompt chaining, và function calling vì:\n",
    "\n",
    "- Điều chỉnh prompt đúng cách có thể cải thiện kết quả mà không cần fine-tuning.\n",
    "- Các phương pháp này cho phản hồi nhanh, trong khi fine-tuning cần dữ liệu và thời gian huấn luyện.\n",
    "- Nếu vẫn cần fine-tuning, các kỹ thuật trên vẫn hữu ích và có thể kết hợp để đạt hiệu quả tốt nhất."
   ]
  },
  {
   "cell_type": "markdown",
   "metadata": {},
   "source": [
    "# 3. Common use-cases for fine-tuning"
   ]
  },
  {
   "cell_type": "markdown",
   "metadata": {},
   "source": [
    "Fine-tuning hữu ích trong các trường hợp:\n",
    "- Tùy chỉnh phong cách, giọng điệu, định dạng đầu ra (Tùy chỉnh các đặc điểm đầu ra).\n",
    "- Tăng độ tin cậy và nhất quán của mô hình  .\n",
    "- Xử lý các lệnh phức tạp hiệu quả hơn.\n",
    "- Quản lý các trường hợp đặc biệt theo cách xác định trước.\n",
    "- Dạy mô hình kỹ năng hoặc nhiệm vụ mới khó diễn đạt qua lệnh."
   ]
  },
  {
   "cell_type": "markdown",
   "metadata": {},
   "source": [
    "# 4. Fine-tuning GPT 4 model"
   ]
  },
  {
   "cell_type": "markdown",
   "metadata": {},
   "source": [
    "## 4.1. Prepare data"
   ]
  },
  {
   "cell_type": "markdown",
   "metadata": {},
   "source": [
    "Để đảm bảo chất lượng mô hình sau khi fine-tune, dữ liệu huấn luyện cần được chuẩn bị kỹ lưỡng. Với API của OpenAI, dữ liệu phải được lưu ở định dạng JSONL.\n",
    "\n",
    "    {\"prompt\": \"<văn bản lệnh>\", \"completion\": \"<văn bản đầu ra lý tưởng>\"}\n",
    "    {\"prompt\": \"<văn bản lệnh>\", \"completion\": \"<văn bản đầu ra lý tưởng>\"}\n",
    "    {\"prompt\": \"<văn bản lệnh>\", \"completion\": \"<văn bản đầu ra lý tưởng>\"}\n",
    "\n",
    "Ví dụ:\n",
    "\n",
    "    {\"messages\": [{\"role\": \"system\", \"content\": \"You are teaching assistant for Machine Learning. You should help to user to answer on his question.\"}, {\"role\": \"user\", \"content\": \"What is machine learning?\"}, {\"role\": \"assistant\", \"content\": \"'Tis but the art of teaching machines to think, to learn from data most fine, and decisions to link.\"}]}\n",
    "\n",
    "    {\"messages\": [{\"role\": \"system\", \"content\": \"You are teaching assistant for Machine Learning. You should help to user to answer on his question.\"}, {\"role\": \"user\", \"content\": \"How doth neural networks work?\"}, {\"role\": \"assistant\", \"content\": \"They're like the brains of yon digital beast, with layers many, and nodes that cease.\"}]}"
   ]
  },
  {
   "cell_type": "markdown",
   "metadata": {},
   "source": [
    "## 4.2. Setup API key and libraries"
   ]
  },
  {
   "cell_type": "code",
   "execution_count": null,
   "metadata": {},
   "outputs": [],
   "source": [
    "!pip install openai"
   ]
  },
  {
   "cell_type": "code",
   "execution_count": 2,
   "metadata": {},
   "outputs": [],
   "source": [
    "import os\n",
    "from openai import OpenAI"
   ]
  },
  {
   "cell_type": "code",
   "execution_count": null,
   "metadata": {},
   "outputs": [],
   "source": [
    "OPENAI_API_KEY=\"INSERT_YOUR_OPENAI_API_KEY\"\n",
    "os.environ['OPENAI_API_KEY'] = OPENAI_API_KEY"
   ]
  },
  {
   "cell_type": "markdown",
   "metadata": {},
   "source": [
    "## 4.3. Upload the training file"
   ]
  },
  {
   "cell_type": "code",
   "execution_count": null,
   "metadata": {},
   "outputs": [],
   "source": [
    "client = OpenAI()\n",
    "client.files.create(\n",
    "    file=open('train.json', 'rb'),\n",
    "    purpose='fine-tune'\n",
    ")"
   ]
  },
  {
   "cell_type": "markdown",
   "metadata": {},
   "source": [
    "## 4.4. Create a fine-tuned model"
   ]
  },
  {
   "cell_type": "code",
   "execution_count": null,
   "metadata": {},
   "outputs": [],
   "source": [
    "client.fine_tuning.jobs.create(\n",
    "    training_file='id_file_that_return_by_openai_after_upload_the_training_file',\n",
    "    model='gpt-3.5-turbo', # Replace any model name if you have access\n",
    ")\n",
    "# Để xem các hướng dẫn tinh chỉnh thông số, validation...\n",
    "# https://platform.openai.com/docs/api-reference/fine-tuning/create\n",
    "# Once the job finishes, an email confirmation will also be sent."
   ]
  },
  {
   "cell_type": "markdown",
   "metadata": {},
   "source": [
    "Bên cạnh việc thiết lập công việc tinh chỉnh, bạn có thể xem danh sách các công việc hiện tại, kiểm tra trạng thái của một công việc cụ thể hoặc hủy một công việc."
   ]
  },
  {
   "cell_type": "code",
   "execution_count": null,
   "metadata": {},
   "outputs": [],
   "source": [
    "# List 10 fine-tuning jopbs\n",
    "client.fine_tuning.jobs.list(limit=10)\n",
    "\n",
    "# Retrieve the state of a fine-tune\n",
    "client.fine_tuning.jobs.retrieve('...')\n",
    "\n",
    "# Cancel a job\n",
    "client.fine_tuning.jobs.cancel(\"...\")\n",
    "\n",
    "# List up to 10 events from a fine-tuning job\n",
    "client.fine_tuning.jobs.list_events(fine_tuning_job_id='...', limit=10)\n",
    "\n",
    "# Delete a fine-tuned model (must be an owner of the org the model created in)\n",
    "client.models.delete('df:gpt-3.5-turbor:xxx:xxx')"
   ]
  },
  {
   "cell_type": "markdown",
   "metadata": {},
   "source": [
    "## 4.5. Analyze the fine-tuned model"
   ]
  },
  {
   "cell_type": "markdown",
   "metadata": {},
   "source": [
    "OpenAI cung cấp các số liệu đào tạo chính như mất mát đào tạo, độ chính xác của mã thông báo để đào tạo, mất mát thử nghiệm và độ chính xác của mã thông báo thử nghiệm."
   ]
  },
  {
   "cell_type": "code",
   "execution_count": null,
   "metadata": {},
   "outputs": [],
   "source": [
    "{\n",
    "    \"object\": \"fine_tuning.job.event\",\n",
    "    \"id\": \"ftjob-Na7BnF5y91wwGJ4EgxtzVyDD\",\n",
    "    \"created_at\": 1693582679,\n",
    "    \"level\": \"info\",\n",
    "    \"message\": \"Step 100/100: training loss=0.00\",\n",
    "    \"data\": {\n",
    "        \"step\": 100,\n",
    "        \"train_loss\": 1.805623287509661e-5,\n",
    "        \"train_mean_token_accuracy\": 1.0\n",
    "    },\n",
    "    \"type\": \"metrics\"\n",
    "}\n"
   ]
  },
  {
   "cell_type": "markdown",
   "metadata": {},
   "source": [
    "## 4.6. Using the fine-tuned model"
   ]
  },
  {
   "cell_type": "markdown",
   "metadata": {},
   "source": [
    "Sau khi hoàn thành training, chúng ta có thể thực hiện gọi API đến mô hình này và nhận phản hồi từ mô hình mà chúng ta vừa điều chỉnh."
   ]
  },
  {
   "cell_type": "code",
   "execution_count": null,
   "metadata": {},
   "outputs": [],
   "source": [
    "completion = client.chat.completions.create(\n",
    "    model='df:gpt-3.5-turbo-0613:personal::8k01tfYd',\n",
    "    messages=[\n",
    "        {\"role\": \"system\", \"content\": \"You are a teaching assistant for Machine Learning. You should help to user to answer on his question.\"},\n",
    "        {\"role\": \"user\", \"content\": \"What is a loss function?\"}\n",
    "    ]\n",
    ")\n",
    "print(completion.choices[0].message)"
   ]
  },
  {
   "cell_type": "markdown",
   "metadata": {},
   "source": [
    "# 5. Conclusion"
   ]
  }
 ],
 "metadata": {
  "kernelspec": {
   "display_name": "Python 3",
   "language": "python",
   "name": "python3"
  },
  "language_info": {
   "codemirror_mode": {
    "name": "ipython",
    "version": 3
   },
   "file_extension": ".py",
   "mimetype": "text/x-python",
   "name": "python",
   "nbconvert_exporter": "python",
   "pygments_lexer": "ipython3",
   "version": "3.12.9"
  }
 },
 "nbformat": 4,
 "nbformat_minor": 2
}
