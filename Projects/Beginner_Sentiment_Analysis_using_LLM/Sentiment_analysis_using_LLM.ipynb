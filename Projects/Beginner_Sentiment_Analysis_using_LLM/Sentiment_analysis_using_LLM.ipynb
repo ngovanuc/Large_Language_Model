{
 "cells": [
  {
   "cell_type": "markdown",
   "metadata": {},
   "source": [
    "# Sentiment Analysis Using LLMs\n",
    "\n",
    "Tech Stack: Python, Hugging Face Transformers, and sentiment datasets like IMDb.\n",
    "\n",
    "## Content\n",
    "dataset: fake_news_dataset\n",
    "\n",
    "link: https://www.kaggle.com/datasets/mohamadalhasan/a-fake-news-dataset-around-the-syrian-war"
   ]
  },
  {
   "cell_type": "markdown",
   "metadata": {},
   "source": []
  }
 ],
 "metadata": {
  "language_info": {
   "name": "python"
  }
 },
 "nbformat": 4,
 "nbformat_minor": 2
}
