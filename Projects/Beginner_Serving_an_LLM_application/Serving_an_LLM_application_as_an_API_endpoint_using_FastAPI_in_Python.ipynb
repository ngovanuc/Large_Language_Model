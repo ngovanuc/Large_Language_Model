{
 "cells": [
  {
   "cell_type": "markdown",
   "metadata": {},
   "source": [
    "# Serving an LLM application as an endpoint using FastAPI\n",
    "## Content\n",
    "1. Example of API creation\n",
    "2. Build End-to-End application in Python"
   ]
  },
  {
   "cell_type": "markdown",
   "metadata": {},
   "source": [
    "# 1. Example of API creation"
   ]
  },
  {
   "cell_type": "code",
   "execution_count": 4,
   "metadata": {},
   "outputs": [],
   "source": [
    "from typing import Union\n",
    "from fastapi import FastAPI\n",
    "\n",
    "app = FastAPI()\n",
    "\n",
    "@app.get(\"/\")\n",
    "def read_root():\n",
    "    return {\"Hello\": \"World\"}\n",
    "\n",
    "@app.get(\"/items/{item_id}\")\n",
    "def read_item(item_id: int, q: Union[str, None] = None):\n",
    "    return {\"item_id\": item_id, \"q\": q}"
   ]
  },
  {
   "cell_type": "markdown",
   "metadata": {},
   "source": [
    "# 2. Build End-to-End application in Python"
   ]
  },
  {
   "cell_type": "markdown",
   "metadata": {},
   "source": [
    "## 2.1. Simple function"
   ]
  },
  {
   "cell_type": "code",
   "execution_count": null,
   "metadata": {},
   "outputs": [],
   "source": [
    "from openai import OpenAI\n",
    "import os\n",
    "\n",
    "os.environ['OPENAI_API_KEY'] = '...'\n",
    "\n",
    "# Iniialize OpenAI Client with your API key\n",
    "client = OpenAI()\n",
    "\n",
    "def translate_text(input_str):\n",
    "    completion = client.chat.completion.create(\n",
    "        messages=[\n",
    "            {\n",
    "                'role': 'system',\n",
    "                'content': 'You are an expert translator who translates text from english to french and only return translated text',\n",
    "            },\n",
    "            {\n",
    "                'role': 'user',\n",
    "                'content': 'input_str',\n",
    "            }\n",
    "        ]        \n",
    "    )\n",
    "    return completion.choices[0].message.content"
   ]
  },
  {
   "cell_type": "code",
   "execution_count": null,
   "metadata": {},
   "outputs": [],
   "source": [
    "# test the function\n",
    "translate_text('this is a test string to translate')"
   ]
  },
  {
   "cell_type": "markdown",
   "metadata": {},
   "source": [
    "## 2.2. Endpoint API"
   ]
  },
  {
   "cell_type": "code",
   "execution_count": null,
   "metadata": {},
   "outputs": [],
   "source": [
    "from fastapi import FastAPI\n",
    "from fastapi import HTTPException\n",
    "from pydantic import BaseModel\n",
    "from openai import OpenAI\n",
    "import os\n",
    "\n",
    "os.environ['OPENAI_API_KEY'] = '...'\n",
    "\n",
    "# Initialize OpenAI client with your API key\n",
    "client = OpenAI()\n",
    "\n",
    "# Initialize FastAPI client\n",
    "app = FastAPI()\n",
    "\n",
    "# Create class with pydantic BaseModel\n",
    "class TranslationRequest(BaseModel):\n",
    "    input_str: str\n",
    "\n",
    "def translate_text(input_str):\n",
    "    completion = client.chat.completions.create(\n",
    "        model='gpt-5-0125-preview',\n",
    "        messages=[\n",
    "            {\n",
    "                'role': 'system',\n",
    "                'content': 'You are an expert translator who translates text from english to french and only return translated text'\n",
    "            },\n",
    "            {\n",
    "                'role': 'user',\n",
    "                'content': input_str\n",
    "            }\n",
    "        ]\n",
    "    )\n",
    "    return completion.choices[0].message.content\n",
    "\n",
    "@app.post('/translate/') # This line decorates 'translate' as a POST endpoint\n",
    "async def translate(request:TranslationRequest):\n",
    "    try:\n",
    "        # call your translation function\n",
    "        translated_text = translate_text(request.input_str)\n",
    "        return {'translated_text': translated_text}\n",
    "    except Exception as e:\n",
    "        # handle exceptions for error during translation\n",
    "        raise HTTPException(status_code=500, detail=str(e))"
   ]
  },
  {
   "cell_type": "markdown",
   "metadata": {},
   "source": [
    "Here, main.py refers to the file containing your code. The term app points to the FastAPI application instance, which is identified in your code app = FastAPI().\n",
    "\n",
    "To run and test this API locally simply run the following command:\n",
    "\n",
    "    uvicorn main:app --reload\n",
    "\n",
    "Navigate to localhost:8000/docs to see a UI interface"
   ]
  }
 ],
 "metadata": {
  "kernelspec": {
   "display_name": "Python 3",
   "language": "python",
   "name": "python3"
  },
  "language_info": {
   "codemirror_mode": {
    "name": "ipython",
    "version": 3
   },
   "file_extension": ".py",
   "mimetype": "text/x-python",
   "name": "python",
   "nbconvert_exporter": "python",
   "pygments_lexer": "ipython3",
   "version": "3.12.9"
  }
 },
 "nbformat": 4,
 "nbformat_minor": 2
}
