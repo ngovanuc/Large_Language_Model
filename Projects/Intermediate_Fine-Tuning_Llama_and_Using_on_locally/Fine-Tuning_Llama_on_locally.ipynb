{
 "cells": [
  {
   "cell_type": "markdown",
   "metadata": {},
   "source": [
    "# Fine-Tuning Llama 3 and Using It Locally: A Step-by-Step Guide\n",
    "## Content\n",
    "0. Goals\n",
    "1. Fine-Tuning Llama 3\n",
    "1.1. Setting up"
   ]
  },
  {
   "cell_type": "markdown",
   "metadata": {},
   "source": [
    "# 0. Goals"
   ]
  },
  {
   "cell_type": "markdown",
   "metadata": {},
   "source": [
    "- Việc tinh chỉnh bằng API OpenAI khá dễ dàng nhưng tốn kém chi phí và phải cung cấp dữ liệu riêng tư, dó đó có sự phụ thuộc rất lớn đến quyền riêng tư và bảo mật\n",
    "- Dự án này tập trung sử dụng khung Transformer để tinh chỉnh mô hình Llama 3 trên các luồng trò chuyện giữa bệnh nhân và bác sĩ\n",
    "- Học cách hợp nhất mô hình cơ sở với bộ dièu hợp tinh chỉnh và sử dụng nó cục bộ \n",
    "- Kết quả: có được kiến thức về LLM, tinh chỉnh, lượng tử hóa và nhiều phương pháp khác nhau để tối ưu hóa bộ nhớ và sử dụng máy tính"
   ]
  },
  {
   "cell_type": "markdown",
   "metadata": {},
   "source": [
    "# 1. Fine-Tuning Llama 3"
   ]
  },
  {
   "cell_type": "markdown",
   "metadata": {},
   "source": [
    "## 1.1. Setting up"
   ]
  },
  {
   "cell_type": "markdown",
   "metadata": {},
   "source": [
    "- Trước khi download model, cần điền đơn xin cấp phép tại đây: https://www.llama.com/llama-downloads/\n",
    "- Quá trinh phê duyệt có thể kéo dài đến vài ngày\n",
    "- Sau khi điền đơn xong thì vào Kaggle chấp nhận thỏa thuận tại đây: https://www.llama.com/llama-downloads/"
   ]
  }
 ],
 "metadata": {
  "kernelspec": {
   "display_name": "Python 3",
   "language": "python",
   "name": "python3"
  },
  "language_info": {
   "codemirror_mode": {
    "name": "ipython",
    "version": 3
   },
   "file_extension": ".py",
   "mimetype": "text/x-python",
   "name": "python",
   "nbconvert_exporter": "python",
   "pygments_lexer": "ipython3",
   "version": "3.12.9"
  }
 },
 "nbformat": 4,
 "nbformat_minor": 2
}
