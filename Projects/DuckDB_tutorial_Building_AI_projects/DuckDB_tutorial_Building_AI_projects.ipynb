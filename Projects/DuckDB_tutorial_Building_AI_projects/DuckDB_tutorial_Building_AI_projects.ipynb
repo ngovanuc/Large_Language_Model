{
 "cells": [
  {
   "cell_type": "markdown",
   "metadata": {},
   "source": [
    "# DuckDB tutorial: Building AI Projects\n",
    "## Content\n",
    "1. About DuckDB\n",
    "2. Creating the DuckDB database (Project 011)\n",
    "3. Building a RAG Application with DuckDB (Project 022)\n",
    "    3.1. Setting up\n",
    "    3.2. Setting up GPT-4o and Embedding Model\n",
    "    3.3. Using DuckDB as a vector database\n",
    "    3.4. Creating a simple RAG application\n",
    "4. Building a DuckDB SQL Query Engine Using an LLM (Project 03)\n",
    "    4.1. Setting up\n",
    "    4.2. Loading the DuckDB database\n",
    "    4.3. Building the SQL query engine"
   ]
  },
  {
   "cell_type": "markdown",
   "metadata": {},
   "source": [
    "# 1. About DuckDB"
   ]
  },
  {
   "cell_type": "markdown",
   "metadata": {},
   "source": [
    "DuckDB là một hệ quản trị cơ sở dữ liệu phân tích hiện đại, hiệu suất cao, hoạt động trong bộ nhớ (in-memory). Nó hỗ trợ SQL và được thiết kế để xử lý các truy vấn phân tích phức tạp.\n",
    "\n",
    "Đặc điểm chính:\n",
    "- Dễ sử dụng: Không cần máy chủ, không có phụ thuộc ngoài, có thể nhúng vào ứng dụng.\n",
    "- Tính năng phong phú: Hỗ trợ SQL mạnh mẽ, tích hợp tốt với Python và R.\n",
    "- Hiệu suất cao: Sử dụng công cụ thực thi truy vấn dạng cột tối ưu hóa cho phân tích dữ liệu.\n",
    "- Miễn phí & Mã nguồn mở: Phát hành theo giấy phép MIT.\n",
    "- Di động: Chạy trên nhiều hệ điều hành và kiến trúc CPU, thậm chí trên trình duyệt.\n",
    "- Mở rộng: Hỗ trợ bổ sung kiểu dữ liệu, hàm, định dạng tệp, cú pháp SQL.\n",
    "- Đáng tin cậy: Kiểm thử nghiêm ngặt với hàng triệu truy vấn để đảm bảo ổn định."
   ]
  },
  {
   "cell_type": "code",
   "execution_count": null,
   "metadata": {},
   "outputs": [
    {
     "name": "stdout",
     "output_type": "stream",
     "text": [
      "2.2.3\n"
     ]
    }
   ],
   "source": [
    "%pip install duckdb --upgrade"
   ]
  },
  {
   "cell_type": "markdown",
   "metadata": {},
   "source": [
    "# 2. Creating the DuckDB database (Project 01)"
   ]
  },
  {
   "cell_type": "code",
   "execution_count": 19,
   "metadata": {},
   "outputs": [],
   "source": [
    "import duckdb\n",
    "\n",
    "con = duckdb.connect('datacamp.duckdb')\n",
    "# It will create a database base file in your local directory. "
   ]
  },
  {
   "cell_type": "markdown",
   "metadata": {},
   "source": [
    "- Load dataset\n",
    "- Create table duckdb\n",
    "- Load dataset into table\n",
    "\n",
    "For more information, see in 'workspace' folder"
   ]
  },
  {
   "cell_type": "code",
   "execution_count": 20,
   "metadata": {},
   "outputs": [],
   "source": [
    "import numpy as np\n",
    "import pandas as pd\n",
    "\n",
    "path_dataset = \"../../Datasets/Bank_marketing_dataset/Bank_marketing.csv\"\n",
    "bank_duck = duckdb.read_csv(path_dataset,sep=\";\")"
   ]
  },
  {
   "cell_type": "code",
   "execution_count": 21,
   "metadata": {},
   "outputs": [
    {
     "data": {
      "text/html": [
       "<div>\n",
       "<style scoped>\n",
       "    .dataframe tbody tr th:only-of-type {\n",
       "        vertical-align: middle;\n",
       "    }\n",
       "\n",
       "    .dataframe tbody tr th {\n",
       "        vertical-align: top;\n",
       "    }\n",
       "\n",
       "    .dataframe thead th {\n",
       "        text-align: right;\n",
       "    }\n",
       "</style>\n",
       "<table border=\"1\" class=\"dataframe\">\n",
       "  <thead>\n",
       "    <tr style=\"text-align: right;\">\n",
       "      <th></th>\n",
       "      <th>database</th>\n",
       "      <th>schema</th>\n",
       "      <th>name</th>\n",
       "      <th>column_names</th>\n",
       "      <th>column_types</th>\n",
       "      <th>temporary</th>\n",
       "    </tr>\n",
       "  </thead>\n",
       "  <tbody>\n",
       "    <tr>\n",
       "      <th>0</th>\n",
       "      <td>datacamp</td>\n",
       "      <td>main</td>\n",
       "      <td>bank</td>\n",
       "      <td>[index, age, job, marital, education, default,...</td>\n",
       "      <td>[BIGINT, BIGINT, VARCHAR, VARCHAR, VARCHAR, VA...</td>\n",
       "      <td>False</td>\n",
       "    </tr>\n",
       "  </tbody>\n",
       "</table>\n",
       "</div>"
      ],
      "text/plain": [
       "   database  ... temporary\n",
       "0  datacamp  ...     False\n",
       "\n",
       "[1 rows x 6 columns]"
      ]
     },
     "execution_count": 21,
     "metadata": {},
     "output_type": "execute_result"
    }
   ],
   "source": [
    "con.execute(\"\"\"\n",
    "    CREATE TABLE IF NOT EXISTS bank AS \n",
    "    SELECT * FROM read_csv(\"../../Datasets/Bank_marketing_dataset/Bank_marketing.csv\")\n",
    "\"\"\")\n",
    "con.execute(\"SHOW ALL TABLES\").fetchdf()"
   ]
  },
  {
   "cell_type": "code",
   "execution_count": 22,
   "metadata": {},
   "outputs": [
    {
     "data": {
      "text/plain": [
       "['index',\n",
       " 'age',\n",
       " 'job',\n",
       " 'marital',\n",
       " 'education',\n",
       " 'default',\n",
       " 'housing',\n",
       " 'loan',\n",
       " 'contact',\n",
       " 'month',\n",
       " 'day_of_week',\n",
       " 'duration',\n",
       " 'campaign',\n",
       " 'pdays',\n",
       " 'previous',\n",
       " 'poutcome',\n",
       " 'emp.var.rate',\n",
       " 'cons.price.idx',\n",
       " 'cons.conf.idx',\n",
       " 'euribor3m',\n",
       " 'nr.employed',\n",
       " 'y']"
      ]
     },
     "execution_count": 22,
     "metadata": {},
     "output_type": "execute_result"
    }
   ],
   "source": [
    "rel = con.table(\"bank\")\n",
    "rel.columns"
   ]
  },
  {
   "cell_type": "code",
   "execution_count": 23,
   "metadata": {},
   "outputs": [
    {
     "data": {
      "text/html": [
       "<div>\n",
       "<style scoped>\n",
       "    .dataframe tbody tr th:only-of-type {\n",
       "        vertical-align: middle;\n",
       "    }\n",
       "\n",
       "    .dataframe tbody tr th {\n",
       "        vertical-align: top;\n",
       "    }\n",
       "\n",
       "    .dataframe thead th {\n",
       "        text-align: right;\n",
       "    }\n",
       "</style>\n",
       "<table border=\"1\" class=\"dataframe\">\n",
       "  <thead>\n",
       "    <tr style=\"text-align: right;\">\n",
       "      <th></th>\n",
       "      <th>job</th>\n",
       "      <th>education</th>\n",
       "      <th>loan</th>\n",
       "    </tr>\n",
       "  </thead>\n",
       "  <tbody>\n",
       "    <tr>\n",
       "      <th>0</th>\n",
       "      <td>blue-collar</td>\n",
       "      <td>unknown</td>\n",
       "      <td>no</td>\n",
       "    </tr>\n",
       "    <tr>\n",
       "      <th>1</th>\n",
       "      <td>blue-collar</td>\n",
       "      <td>unknown</td>\n",
       "      <td>no</td>\n",
       "    </tr>\n",
       "    <tr>\n",
       "      <th>2</th>\n",
       "      <td>blue-collar</td>\n",
       "      <td>basic.9y</td>\n",
       "      <td>no</td>\n",
       "    </tr>\n",
       "  </tbody>\n",
       "</table>\n",
       "</div>"
      ],
      "text/plain": [
       "           job education loan\n",
       "0  blue-collar   unknown   no\n",
       "1  blue-collar   unknown   no\n",
       "2  blue-collar  basic.9y   no"
      ]
     },
     "execution_count": 23,
     "metadata": {},
     "output_type": "execute_result"
    }
   ],
   "source": [
    "# Let’s write a relation that uses multiple functions to analyze the data.\n",
    "rel.filter(\"duration < 100\").project(\"job,education,loan\").order(\"job\").limit(3).df()"
   ]
  },
  {
   "cell_type": "markdown",
   "metadata": {},
   "source": [
    "The DuckDB query function allows SQL queries to be executed within the database, returning results that can be converted into various formats for further analysis.\n",
    "\n",
    "In the code example bellow, we are running the SQL query to find out the job titles of clients over the age of 30, count the number of clients contacted for each job, and calculate the average duration of the campaign."
   ]
  },
  {
   "cell_type": "code",
   "execution_count": 24,
   "metadata": {},
   "outputs": [
    {
     "data": {
      "text/html": [
       "<div>\n",
       "<style scoped>\n",
       "    .dataframe tbody tr th:only-of-type {\n",
       "        vertical-align: middle;\n",
       "    }\n",
       "\n",
       "    .dataframe tbody tr th {\n",
       "        vertical-align: top;\n",
       "    }\n",
       "\n",
       "    .dataframe thead th {\n",
       "        text-align: right;\n",
       "    }\n",
       "</style>\n",
       "<table border=\"1\" class=\"dataframe\">\n",
       "  <thead>\n",
       "    <tr style=\"text-align: right;\">\n",
       "      <th></th>\n",
       "      <th>job</th>\n",
       "      <th>total_clients_contacted</th>\n",
       "      <th>avg_campaign_duration</th>\n",
       "    </tr>\n",
       "  </thead>\n",
       "  <tbody>\n",
       "    <tr>\n",
       "      <th>0</th>\n",
       "      <td>admin.</td>\n",
       "      <td>26</td>\n",
       "      <td>245.807692</td>\n",
       "    </tr>\n",
       "    <tr>\n",
       "      <th>1</th>\n",
       "      <td>blue-collar</td>\n",
       "      <td>23</td>\n",
       "      <td>320.695652</td>\n",
       "    </tr>\n",
       "    <tr>\n",
       "      <th>2</th>\n",
       "      <td>technician</td>\n",
       "      <td>13</td>\n",
       "      <td>385.153846</td>\n",
       "    </tr>\n",
       "    <tr>\n",
       "      <th>3</th>\n",
       "      <td>management</td>\n",
       "      <td>9</td>\n",
       "      <td>283.444444</td>\n",
       "    </tr>\n",
       "    <tr>\n",
       "      <th>4</th>\n",
       "      <td>services</td>\n",
       "      <td>8</td>\n",
       "      <td>323.750000</td>\n",
       "    </tr>\n",
       "    <tr>\n",
       "      <th>5</th>\n",
       "      <td>unknown</td>\n",
       "      <td>4</td>\n",
       "      <td>239.250000</td>\n",
       "    </tr>\n",
       "    <tr>\n",
       "      <th>6</th>\n",
       "      <td>housemaid</td>\n",
       "      <td>3</td>\n",
       "      <td>273.333333</td>\n",
       "    </tr>\n",
       "    <tr>\n",
       "      <th>7</th>\n",
       "      <td>entrepreneur</td>\n",
       "      <td>3</td>\n",
       "      <td>601.666667</td>\n",
       "    </tr>\n",
       "    <tr>\n",
       "      <th>8</th>\n",
       "      <td>retired</td>\n",
       "      <td>2</td>\n",
       "      <td>258.000000</td>\n",
       "    </tr>\n",
       "    <tr>\n",
       "      <th>9</th>\n",
       "      <td>unemployed</td>\n",
       "      <td>2</td>\n",
       "      <td>345.000000</td>\n",
       "    </tr>\n",
       "    <tr>\n",
       "      <th>10</th>\n",
       "      <td>self-employed</td>\n",
       "      <td>1</td>\n",
       "      <td>233.000000</td>\n",
       "    </tr>\n",
       "  </tbody>\n",
       "</table>\n",
       "</div>"
      ],
      "text/plain": [
       "              job  total_clients_contacted  avg_campaign_duration\n",
       "0          admin.                       26             245.807692\n",
       "1     blue-collar                       23             320.695652\n",
       "2      technician                       13             385.153846\n",
       "3      management                        9             283.444444\n",
       "4        services                        8             323.750000\n",
       "5         unknown                        4             239.250000\n",
       "6       housemaid                        3             273.333333\n",
       "7    entrepreneur                        3             601.666667\n",
       "8         retired                        2             258.000000\n",
       "9      unemployed                        2             345.000000\n",
       "10  self-employed                        1             233.000000"
      ]
     },
     "execution_count": 24,
     "metadata": {},
     "output_type": "execute_result"
    }
   ],
   "source": [
    "res = duckdb.query(\"\"\"SELECT \n",
    "                            job,\n",
    "                            COUNT(*) AS total_clients_contacted,\n",
    "                            AVG(duration) AS avg_campaign_duration,\n",
    "                        FROM \n",
    "                            \"../../Datasets/Bank_marketing_dataset/Bank_marketing.csv\"\n",
    "                        WHERE \n",
    "                            age > 30\n",
    "                        GROUP BY \n",
    "                            job\n",
    "                        ORDER BY \n",
    "                            total_clients_contacted DESC;\"\"\")\n",
    "res.df()"
   ]
  },
  {
   "cell_type": "code",
   "execution_count": 25,
   "metadata": {},
   "outputs": [],
   "source": [
    "con.close()"
   ]
  },
  {
   "cell_type": "markdown",
   "metadata": {},
   "source": [
    "# 3. Building a RAG Application with DuckDB (Project 02)"
   ]
  },
  {
   "cell_type": "markdown",
   "metadata": {},
   "source": [
    "## 3.1. Setting up"
   ]
  },
  {
   "cell_type": "code",
   "execution_count": 26,
   "metadata": {},
   "outputs": [],
   "source": [
    "%%capture\n",
    "%pip install duckdb\n",
    "%pip install llama-index\n",
    "%pip install llama-index-vector-stores-duckdb"
   ]
  },
  {
   "cell_type": "code",
   "execution_count": 29,
   "metadata": {},
   "outputs": [],
   "source": [
    "from llama_index.core import VectorStoreIndex\n",
    "from llama_index.core import SimpleDirectoryReader\n",
    "from llama_index.core import StorageContext\n",
    "from llama_index.core import Settings\n",
    "from llama_index.vector_stores.duckdb import DuckDBVectorStore\n",
    "from llama_index.llms.openai import OpenAI\n",
    "from llama_index.embeddings.openai import OpenAIEmbedding\n",
    "\n",
    "from IPython.display import Markdown\n",
    "from IPython.display import display\n",
    "\n",
    "import os"
   ]
  },
  {
   "cell_type": "markdown",
   "metadata": {},
   "source": [
    "## 3.2. Setting up GPT-4o and Embedding Model"
   ]
  },
  {
   "cell_type": "code",
   "execution_count": null,
   "metadata": {},
   "outputs": [],
   "source": [
    "llm = OpenAI(\n",
    "    model='gpt-4o',\n",
    "    api_key=os.environ['OPENAI_API_KEY']\n",
    ")"
   ]
  },
  {
   "cell_type": "code",
   "execution_count": null,
   "metadata": {},
   "outputs": [],
   "source": [
    "embed_model = OpenAIEmbedding(model='text-embedding-3-small')"
   ]
  },
  {
   "cell_type": "code",
   "execution_count": null,
   "metadata": {},
   "outputs": [],
   "source": [
    "Settings.llm = llm\n",
    "Settings.embed_model = embed_model"
   ]
  },
  {
   "cell_type": "markdown",
   "metadata": {},
   "source": [
    "## 3.3. Using DuckDB as a vector database+"
   ]
  },
  {
   "cell_type": "code",
   "execution_count": null,
   "metadata": {},
   "outputs": [],
   "source": [
    "documents = SimpleDirectoryReader('../../Datasets/Application_with_Groq_data/').load_data()\n",
    "# This folder has pdf files"
   ]
  },
  {
   "cell_type": "markdown",
   "metadata": {},
   "source": [
    "Chúng ta tạo một ko lưu trữ vector tên là blog bằng cách dùng một database đã được tạo sẵn. Sau đó chuyển (convert) dữ liệu của các file pdf thành các embedding và sau đó lưu vào kho lưu trữ vector."
   ]
  },
  {
   "cell_type": "code",
   "execution_count": null,
   "metadata": {},
   "outputs": [],
   "source": [
    "vector_store = DuckDBVectorStore(database_name = \"datacamp.duckdb\",table_name = \"blog\",persist_dir=\"./\", embed_dim=1536)\n",
    "storage_context = StorageContext.from_defaults(vector_store=vector_store)\n",
    "\n",
    "index = VectorStoreIndex.from_documents(\n",
    "    documents, storage_context=storage_context\n",
    ")"
   ]
  },
  {
   "cell_type": "markdown",
   "metadata": {},
   "source": [
    "To check if our vector store was successfully created, we will connect the database using the DuckDB Python API and run the SQL query to display all the tables in the database. "
   ]
  },
  {
   "cell_type": "code",
   "execution_count": null,
   "metadata": {},
   "outputs": [],
   "source": [
    "import duckdb\n",
    "con = duckdb.connect(\"datacamp.duckdb\")\n",
    "\n",
    "con.execute(\"SHOW ALL TABLES\").fetchdf()"
   ]
  },
  {
   "cell_type": "markdown",
   "metadata": {},
   "source": [
    "## 3.4. Creating a simple RAG application"
   ]
  },
  {
   "cell_type": "code",
   "execution_count": null,
   "metadata": {},
   "outputs": [],
   "source": [
    "query_engine = index.as_query_engine()\n",
    "response = query_engine.query(\"Who wrote 'GitHub Actions and MakeFile: A Hands-on Introduction'?\")\n",
    "display(Markdown(f\"<b>{response}</b>\"))"
   ]
  },
  {
   "cell_type": "markdown",
   "metadata": {},
   "source": [
    "## 3.5. Creating a RAG chatbot with memory"
   ]
  },
  {
   "cell_type": "markdown",
   "metadata": {},
   "source": [
    "Now, let’s create an advanced RAG application that uses the conversation history to generate the response. For that, we have to create a chat memory buffer and then a chat engine with memory, LLM, and vector store retriever. \n",
    "\n",
    "Tìm hiểu thêm về chatmemory là gì, MemGPT..."
   ]
  },
  {
   "cell_type": "code",
   "execution_count": null,
   "metadata": {},
   "outputs": [],
   "source": [
    "from llama_index.core.memory import ChatMemoryBuffer\n",
    "from llama_index.core.chat_engine import CondensePlusContextChatEngine\n",
    "\n",
    "memory = ChatMemoryBuffer.from_defaults(token_limit=3900)\n",
    "\n",
    "chat_engine = CondensePlusContextChatEngine.from_defaults(\n",
    "    index.as_retriever(),\n",
    "    memory=memory,\n",
    "    llm=llm\n",
    ")\n",
    "\n",
    "response = chat_engine.chat(\n",
    "    \"What is the easiest way of finetuning the Llama 3 model? Please provide step-by-step instructions.\"\n",
    ")\n",
    "\n",
    "display(Markdown(response.response))"
   ]
  },
  {
   "cell_type": "code",
   "execution_count": null,
   "metadata": {},
   "outputs": [],
   "source": [
    "response = chat_engine.chat(\n",
    "    \"Could you please provide more details about the Post Fine-Tuning Steps?\"\n",
    ")\n",
    "display(Markdown(response.response))"
   ]
  },
  {
   "cell_type": "markdown",
   "metadata": {},
   "source": [
    "# 4. Building a DuckDB SQL Query Engine Using an LLM (Project 03)"
   ]
  },
  {
   "cell_type": "markdown",
   "metadata": {},
   "source": [
    "## 4.1. Setting up"
   ]
  },
  {
   "cell_type": "markdown",
   "metadata": {},
   "source": [
    "%pip install duckdb-engine -q"
   ]
  },
  {
   "cell_type": "markdown",
   "metadata": {},
   "source": [
    "## 4.2. Loading the DuckDB database"
   ]
  },
  {
   "cell_type": "code",
   "execution_count": null,
   "metadata": {},
   "outputs": [
    {
     "name": "stdout",
     "output_type": "stream",
     "text": [
      "[(0, 56, 'housemaid', 'married', 'basic.4y', 'no', 'no', 'no', 'telephone', 'may', 'mon', 261, 1, 999, 0, 'nonexistent', 1.1, 93.994, -36.4, 4.857, 5191, False), (1, 57, 'services', 'married', 'high.school', 'unknown', 'no', 'no', 'telephone', 'may', 'mon', 149, 1, 999, 0, 'nonexistent', 1.1, 93.994, -36.4, 4.857, 5191, False), (2, 37, 'services', 'married', 'high.school', 'no', 'yes', 'no', 'telephone', 'may', 'mon', 226, 1, 999, 0, 'nonexistent', 1.1, 93.994, -36.4, 4.857, 5191, False)]\n"
     ]
    }
   ],
   "source": [
    "# load the DuckDB database using the create_engine function and then write a simple SQL query to check whether \n",
    "# it is successfully loaded. \n",
    "from sqlalchemy import create_engine\n",
    "\n",
    "engine = create_engine(\"duckdb:///datacamp.duckdb\")\n",
    "with engine.connect() as connection:\n",
    "    cursor = connection.exec_driver_sql(\"SELECT * FROM bank LIMIT 3\")\n",
    "    print(cursor.fetchall())"
   ]
  },
  {
   "cell_type": "code",
   "execution_count": 35,
   "metadata": {},
   "outputs": [
    {
     "name": "stderr",
     "output_type": "stream",
     "text": [
      "c:\\Users\\NGOVANUC\\.conda\\envs\\.venv\\Lib\\site-packages\\duckdb_engine\\__init__.py:184: DuckDBEngineWarning: duckdb-engine doesn't yet support reflection on indices\n",
      "  warnings.warn(\n"
     ]
    }
   ],
   "source": [
    "# create a database Tool using the SQLDatabase function. Provide it with an engine object and table name.  \n",
    "from llama_index.core import SQLDatabase\n",
    "\n",
    "sql_database = SQLDatabase(engine, include_tables=['bank'])"
   ]
  },
  {
   "cell_type": "markdown",
   "metadata": {},
   "source": [
    "## 4.3. Building the SQL query engine"
   ]
  },
  {
   "cell_type": "code",
   "execution_count": null,
   "metadata": {},
   "outputs": [],
   "source": [
    "# Create the SQL query engine using the NLSQLTableQueryEngine function by \n",
    "# providing it with the LlamaIndex SQL database object. \n",
    "from llama_index.core.query_engine import NLSQLTableQueryEngine\n",
    "query_engine = NLSQLTableQueryEngine(sql_database)\n",
    "\n",
    "# Ask the question from the query engine\n",
    "response = query_engine.query(\"Which is the longest running campaign?\")\n",
    "print(response.response)"
   ]
  },
  {
   "cell_type": "code",
   "execution_count": null,
   "metadata": {},
   "outputs": [],
   "source": [
    "response = query_engine.query(\"Which type of job has the most housing loan?\")\n",
    "print(response.response)"
   ]
  },
  {
   "cell_type": "code",
   "execution_count": null,
   "metadata": {},
   "outputs": [],
   "source": [
    "# To check what is going on on the back end, we will print the metadata. \n",
    "print(response.metadata)"
   ]
  },
  {
   "cell_type": "code",
   "execution_count": null,
   "metadata": {},
   "outputs": [],
   "source": [
    "engine.close()"
   ]
  },
  {
   "cell_type": "markdown",
   "metadata": {},
   "source": [
    "# 5. Conclusion"
   ]
  },
  {
   "cell_type": "markdown",
   "metadata": {},
   "source": [
    "DuckDB là một cơ sở dữ liệu nhanh, dễ sử dụng và tích hợp tốt với nhiều framework về dữ liệu và AI. Nó không có phụ thuộc, giúp triển khai linh hoạt mà không cần cài đặt phức tạp.\n",
    "\n",
    "Trong hướng dẫn này đã tìm hiểu về DuckDB, API Python của nó, cách tạo bảng và thực hiện phân tích dữ liệu đơn giản. Ngoài ra, hai dự án thực hành đã được giới thiệu:\n",
    "- Ứng dụng RAG sử dụng DuckDB làm vector database.\n",
    "- DuckDB như một SQL query engine."
   ]
  }
 ],
 "metadata": {
  "kernelspec": {
   "display_name": "Python 3",
   "language": "python",
   "name": "python3"
  },
  "language_info": {
   "codemirror_mode": {
    "name": "ipython",
    "version": 3
   },
   "file_extension": ".py",
   "mimetype": "text/x-python",
   "name": "python",
   "nbconvert_exporter": "python",
   "pygments_lexer": "ipython3",
   "version": "3.12.9"
  }
 },
 "nbformat": 4,
 "nbformat_minor": 2
}
